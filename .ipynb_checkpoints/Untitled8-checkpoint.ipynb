{
 "cells": [
  {
   "cell_type": "code",
   "execution_count": 1,
   "id": "9159bfd0",
   "metadata": {},
   "outputs": [
    {
     "ename": "ModuleNotFoundError",
     "evalue": "No module named 'matpltlib'",
     "output_type": "error",
     "traceback": [
      "\u001b[0;31m---------------------------------------------------------------------------\u001b[0m",
      "\u001b[0;31mModuleNotFoundError\u001b[0m                       Traceback (most recent call last)",
      "Cell \u001b[0;32mIn[1], line 1\u001b[0m\n\u001b[0;32m----> 1\u001b[0m \u001b[38;5;28;01mimport\u001b[39;00m \u001b[38;5;21;01mmatpltlib\u001b[39;00m \u001b[38;5;28;01mas\u001b[39;00m \u001b[38;5;21;01mmlt\u001b[39;00m\n",
      "\u001b[0;31mModuleNotFoundError\u001b[0m: No module named 'matpltlib'"
     ]
    }
   ],
   "source": [
    "import matpltlib as mlt"
   ]
  },
  {
   "cell_type": "code",
   "execution_count": 2,
   "id": "e1e3c794",
   "metadata": {},
   "outputs": [],
   "source": [
    "import matplotlib as mlt"
   ]
  },
  {
   "cell_type": "code",
   "execution_count": 24,
   "id": "905cbd67",
   "metadata": {},
   "outputs": [
    {
     "ename": "NameError",
     "evalue": "name 'x_exact' is not defined",
     "output_type": "error",
     "traceback": [
      "\u001b[0;31m---------------------------------------------------------------------------\u001b[0m",
      "\u001b[0;31mNameError\u001b[0m                                 Traceback (most recent call last)",
      "Cell \u001b[0;32mIn[24], line 2\u001b[0m\n\u001b[1;32m      1\u001b[0m \u001b[38;5;66;03m#formulas\u001b[39;00m\n\u001b[0;32m----> 2\u001b[0m x_exact\n\u001b[1;32m      3\u001b[0m x_abs \u001b[38;5;241m=\u001b[39m x_exact \u001b[38;5;241m-\u001b[39m x_aprox\n\u001b[1;32m      4\u001b[0m x_relative \u001b[38;5;241m=\u001b[39m x_abs\u001b[38;5;241m/\u001b[39mx_exact\n",
      "\u001b[0;31mNameError\u001b[0m: name 'x_exact' is not defined"
     ]
    }
   ],
   "source": [
    "#formulas\n",
    "\n",
    "x_abs = x_exact - x_aprox\n",
    "x_relative = x_abs/x_exact\n",
    "x_p = x_relative *100\n",
    "x_rel = x_abs/x_exact"
   ]
  },
  {
   "cell_type": "code",
   "execution_count": 26,
   "id": "bc173600",
   "metadata": {
    "scrolled": true
   },
   "outputs": [
    {
     "name": "stdout",
     "output_type": "stream",
     "text": [
      "1.971611950001857e-05\n"
     ]
    }
   ],
   "source": [
    "#4 \n",
    "#formulas\n",
    "\n",
    "x_abs = x_exact - x_aprox\n",
    "x_relative = x_abs/x_exact\n",
    "x_p = x_relative *100\n",
    "x_aprox = 625.483\n",
    "x_exact = 625.483123321\n",
    "print(x_p)"
   ]
  },
  {
   "cell_type": "code",
   "execution_count": 20,
   "id": "dbb6a5ee",
   "metadata": {},
   "outputs": [],
   "source": [
    "#5 \n",
    "x_ar= 45\n",
    "x_e =47"
   ]
  },
  {
   "cell_type": "code",
   "execution_count": null,
   "id": "febb3409",
   "metadata": {},
   "outputs": [],
   "source": []
  }
 ],
 "metadata": {
  "kernelspec": {
   "display_name": "Python 3 (ipykernel)",
   "language": "python",
   "name": "python3"
  },
  "language_info": {
   "codemirror_mode": {
    "name": "ipython",
    "version": 3
   },
   "file_extension": ".py",
   "mimetype": "text/x-python",
   "name": "python",
   "nbconvert_exporter": "python",
   "pygments_lexer": "ipython3",
   "version": "3.11.5"
  }
 },
 "nbformat": 4,
 "nbformat_minor": 5
}
